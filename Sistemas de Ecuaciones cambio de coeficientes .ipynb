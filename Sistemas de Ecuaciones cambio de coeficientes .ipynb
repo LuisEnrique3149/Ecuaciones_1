{
 "cells": [
  {
   "cell_type": "markdown",
   "metadata": {},
   "source": [
    "$Un$ $sistema$ $de$ $ecuaciones$ $lineales$ $2x2$ $de$ $la$ $forma:$\n",
    "\n",
    "$$\\left\\{\\begin{matrix}\n",
    " & ax+bx=c \\\\ \n",
    " & dx+ex=f\n",
    "\\end{matrix}\\right.$$\n",
    "\n",
    "$Llamamos$ $arreglo$ $rectangular$ $del$ $sistema,$ $al$ $arreglo$ $de$ $números$ $(coeficientes)$ $de$ $la$ $siguiente$ $manera:$\n",
    "\n",
    "$$\\begin{bmatrix}\n",
    "a &b  &c \\\\ \n",
    " d& e &f \n",
    "\\end{bmatrix}$$\n",
    "\n",
    "$El$ $siguiente$ $programa$ $te$ $permite$ $introducir$ $los$ $datos$ $para$  $un$ $sistema$ $2x2,$ $introduce$ $lo$ $que$ $se$ $te$ $pide:$"
   ]
  },
  {
   "cell_type": "code",
   "execution_count": 1,
   "metadata": {},
   "outputs": [
    {
     "data": {
      "text/markdown": [
       "$$Introduce\\ los\\ coeficientes\\ de\\ tu\\ primera\\ ecuación\\ lineal,\\ de\\ la\\ forma\\ ax+by=c$$"
      ],
      "text/plain": [
       "<IPython.core.display.Markdown object>"
      ]
     },
     "metadata": {},
     "output_type": "display_data"
    },
    {
     "name": "stdout",
     "output_type": "stream",
     "text": [
      "Cuál es el coeficiente de x: -3\n",
      "Cuál es el coeficiente de y: -6\n",
      "Cuál es el término constante: -8\n"
     ]
    },
    {
     "data": {
      "text/markdown": [
       "$$Tu\\ ecuación\\ 1\\ es:$$"
      ],
      "text/plain": [
       "<IPython.core.display.Markdown object>"
      ]
     },
     "metadata": {},
     "output_type": "display_data"
    },
    {
     "data": {
      "text/latex": [
       "$\\displaystyle - 3 x - 6 y = -8$"
      ],
      "text/plain": [
       "-3⋅x - 6⋅y = -8"
      ]
     },
     "metadata": {},
     "output_type": "display_data"
    },
    {
     "data": {
      "text/markdown": [
       "$$Introduce\\ los\\ datos\\ de\\ la\\ segunda\\ ecuación\\ de\\ la\\ forma\\ dx+ey=f:$$"
      ],
      "text/plain": [
       "<IPython.core.display.Markdown object>"
      ]
     },
     "metadata": {},
     "output_type": "display_data"
    },
    {
     "name": "stdout",
     "output_type": "stream",
     "text": [
      "Cuál es el coeficiente de x: -4\n",
      "Cuál es el coficiente de y: -2\n",
      "Cuál es el termino constante: -3\n"
     ]
    },
    {
     "data": {
      "text/markdown": [
       "$$Tu\\ ecuación\\ 2\\ es:$$"
      ],
      "text/plain": [
       "<IPython.core.display.Markdown object>"
      ]
     },
     "metadata": {},
     "output_type": "display_data"
    },
    {
     "data": {
      "text/latex": [
       "$\\displaystyle - 4 x - 2 y = -3$"
      ],
      "text/plain": [
       "-4⋅x - 2⋅y = -3"
      ]
     },
     "metadata": {},
     "output_type": "display_data"
    },
    {
     "data": {
      "text/markdown": [
       "$$Por\\ lo\\ tanto\\ tu\\ sistema\\ es:$$"
      ],
      "text/plain": [
       "<IPython.core.display.Markdown object>"
      ]
     },
     "metadata": {},
     "output_type": "display_data"
    },
    {
     "data": {
      "text/latex": [
       "$\\displaystyle - 3 x - 6 y = -8$"
      ],
      "text/plain": [
       "-3⋅x - 6⋅y = -8"
      ]
     },
     "metadata": {},
     "output_type": "display_data"
    },
    {
     "data": {
      "text/latex": [
       "$\\displaystyle - 4 x - 2 y = -3$"
      ],
      "text/plain": [
       "-4⋅x - 2⋅y = -3"
      ]
     },
     "metadata": {},
     "output_type": "display_data"
    },
    {
     "data": {
      "text/markdown": [
       "$$Por\\ lo\\ tanto\\ el\\ arreglo\\ rectangular\\ de\\ tu\\ sistema\\ es:$$"
      ],
      "text/plain": [
       "<IPython.core.display.Markdown object>"
      ]
     },
     "metadata": {},
     "output_type": "display_data"
    },
    {
     "data": {
      "text/latex": [
       "$\\displaystyle \\left[\\begin{matrix}-3 & -6 & -8\\\\-4 & -2 & -3\\end{matrix}\\right]$"
      ],
      "text/plain": [
       "⎡-3  -6  -8⎤\n",
       "⎢          ⎥\n",
       "⎣-4  -2  -3⎦"
      ]
     },
     "metadata": {},
     "output_type": "display_data"
    },
    {
     "data": {
      "text/markdown": [
       "$$La\\ gráfica\\ del\\ sistema\\ es:$$"
      ],
      "text/plain": [
       "<IPython.core.display.Markdown object>"
      ]
     },
     "metadata": {},
     "output_type": "display_data"
    },
    {
     "data": {
      "image/png": "[encoded data removed]",
      "text/plain": [
       "<Figure size 432x288 with 1 Axes>"
      ]
     },
     "metadata": {
      "needs_background": "light"
     },
     "output_type": "display_data"
    }
   ],
   "source": [
    "#importamos las bibliotecas que utilizaremos\n",
    "%matplotlib inline\n",
    "from matplotlib import pyplot as plt\n",
    "from IPython.display import display, Math, Latex, Markdown\n",
    "from sympy.interactive import printing\n",
    "from sympy import Eq, solve_linear_system, Matrix,Symbol, init_printing, init_session\n",
    "from numpy import linalg\n",
    "import numpy as np\n",
    "import sympy as sp\n",
    "printing.init_printing(use_latex=True)\n",
    "init_printing(use_latex='mathjax')\n",
    "\n",
    "#Definimos las variables que se utilizarán guardar datos\n",
    "\n",
    "def printmd(string):\n",
    "    display(Markdown(string))\n",
    "\n",
    "#Definimos las variables para los coeficientes\n",
    "\n",
    "x, y=sp.symbols ('x,y')\n",
    "a,b,c,d,e,f,g,h,r,j,k,l,m,n,a1,b1,c1=sp.symbols ('a,b,c,d,e,f,g,h,r,j,k,l,m,n,a1,b1,c1')\n",
    "\n",
    "to= r'$$Introduce\\ los\\ coeficientes\\ de\\ tu\\ primera\\ ecuación\\ lineal,\\ de\\ la\\ forma\\ ax+by=c$$'\n",
    "\n",
    "printmd(to)\n",
    "\n",
    "#Para que Python interprete la entrada como un número entero, se debe utilizar la función int() para decimal se usa float()\n",
    "\n",
    "a= int(input(\"Cuál es el coeficiente de x: \"))\n",
    "a\n",
    "b=int(input(\"Cuál es el coeficiente de y: \"))\n",
    "b\n",
    "c=int(input(\"Cuál es el término constante: \"))\n",
    "\n",
    "#\n",
    "printmd('$$Tu\\ ecuación\\ 1\\ es:$$')\n",
    "\n",
    "ec1= sp.Function('ec1')\n",
    "ec2= sp.Function('ec2')\n",
    "\n",
    "ec1= Eq(a*x + b*y, c)\n",
    "\n",
    "display(ec1)\n",
    "\n",
    "ta= r'$$Introduce\\ los\\ datos\\ de\\ la\\ segunda\\ ecuación\\ de\\ la\\ forma\\ dx+ey=f:$$'\n",
    "\n",
    "printmd(ta)\n",
    "\n",
    "d= int(input(\"Cuál es el coeficiente de x: \"))\n",
    "d\n",
    "e=int(input(\"Cuál es el coficiente de y: \"))\n",
    "e\n",
    "f=int(input(\"Cuál es el termino constante: \"))\n",
    "\n",
    "printmd('$$Tu\\ ecuación\\ 2\\ es:$$')\n",
    "\n",
    "ec2= Eq(d*x + e*y, f)\n",
    "\n",
    "display(ec2)\n",
    "\n",
    "printmd ('$$Por\\ lo\\ tanto\\ tu\\ sistema\\ es:$$')\n",
    "\n",
    "display(ec1, ec2)\n",
    "\n",
    "printmd('$$Por\\ lo\\ tanto\\ el\\ arreglo\\ rectangular\\ de\\ tu\\ sistema\\ es:$$')\n",
    "\n",
    "row1=[a,b,c]\n",
    "row2=[d,e,f]\n",
    "\n",
    "system = Matrix ((row1,row2))\n",
    "\n",
    "display (system)\n",
    "\n",
    "#Gráficamos el sistema\n",
    "\n",
    "printmd ('$$La\\ gráfica\\ del\\ sistema\\ es:$$')\n",
    "\n",
    "def y1(x):\n",
    "    return (c - a*x)/b \n",
    "# Función lineal.\n",
    "\n",
    "def y2(x):\n",
    "    return  (f - d*x)/f \n",
    "# Valores del eje X que toma el gráfico.\n",
    "x = range(-10, 15)\n",
    "# Graficar ambas funciones.\n",
    "plt.plot(x, [y1(i) for i in x])\n",
    "plt.plot(x, [y2(i) for i in x])\n",
    "# Establecer el color de los ejes.\n",
    "plt.axhline(0, color=\"black\")\n",
    "plt.axvline(0, color=\"black\")\n",
    "# Limitar los valores de los ejes.\n",
    "plt.xlim(-15, 15)\n",
    "plt.ylim(-15, 15)\n",
    "# Guardar gráfico como imágen PNG.\n",
    "plt.savefig(\"output.png\")\n",
    "# Mostrarlo.\n",
    "plt.show()"
   ]
  },
  {
   "cell_type": "markdown",
   "metadata": {},
   "source": [
    "$Tomando$ $en$ $cuenta$ $el$ $sistema$ $que$ $introdujiste$ $anteriormente:$\n",
    "\n",
    "$-Intercambia$ $un$ $coeficiente$ $a$ $la$ $vez.$\n",
    "\n",
    "\n",
    "\n",
    "$-Observa$ $cómo$ $cambia$ $el$ $sistema$ $respecto$ $al$ $original.$"
   ]
  },
  {
   "cell_type": "code",
   "execution_count": 2,
   "metadata": {},
   "outputs": [
    {
     "data": {
      "text/markdown": [
       "$$Introduce\\ los\\ coeficientes\\ de\\ tu\\ primera\\ ecuación\\ lineal,\\ de\\ la\\ forma\\ ax+by=c$$"
      ],
      "text/plain": [
       "<IPython.core.display.Markdown object>"
      ]
     },
     "metadata": {},
     "output_type": "display_data"
    },
    {
     "name": "stdout",
     "output_type": "stream",
     "text": [
      "Cuál es el coeficiente de x: -6\n",
      "Cuál es el coeficiente de y: -8\n",
      "Cuál es el término constante: -9\n"
     ]
    },
    {
     "data": {
      "text/markdown": [
       "$$Tu\\ ecuación\\ 1\\ es:$$"
      ],
      "text/plain": [
       "<IPython.core.display.Markdown object>"
      ]
     },
     "metadata": {},
     "output_type": "display_data"
    },
    {
     "data": {
      "text/latex": [
       "$\\displaystyle - 6 x - 8 y = -9$"
      ],
      "text/plain": [
       "-6⋅x - 8⋅y = -9"
      ]
     },
     "metadata": {},
     "output_type": "display_data"
    },
    {
     "data": {
      "text/markdown": [
       "$$Introduce\\ los\\ datos\\ de\\ la\\ segunda\\ ecuación\\ de\\ la\\ forma\\ dx+ey=f:$$"
      ],
      "text/plain": [
       "<IPython.core.display.Markdown object>"
      ]
     },
     "metadata": {},
     "output_type": "display_data"
    },
    {
     "name": "stdout",
     "output_type": "stream",
     "text": [
      "Cuál es el coeficiente de x: -3\n",
      "Cuál es el coficiente de y: -5\n",
      "Cuál es el termino constante: -9\n"
     ]
    },
    {
     "data": {
      "text/markdown": [
       "$$Tu\\ ecuación\\ 2\\ es:$$"
      ],
      "text/plain": [
       "<IPython.core.display.Markdown object>"
      ]
     },
     "metadata": {},
     "output_type": "display_data"
    },
    {
     "data": {
      "text/latex": [
       "$\\displaystyle - 3 x - 5 y = -9$"
      ],
      "text/plain": [
       "-3⋅x - 5⋅y = -9"
      ]
     },
     "metadata": {},
     "output_type": "display_data"
    },
    {
     "data": {
      "text/markdown": [
       "$$Por\\ lo\\ tanto\\ tu\\ sistema\\ es:$$"
      ],
      "text/plain": [
       "<IPython.core.display.Markdown object>"
      ]
     },
     "metadata": {},
     "output_type": "display_data"
    },
    {
     "data": {
      "text/latex": [
       "$\\displaystyle - 6 x - 8 y = -9$"
      ],
      "text/plain": [
       "-6⋅x - 8⋅y = -9"
      ]
     },
     "metadata": {},
     "output_type": "display_data"
    },
    {
     "data": {
      "text/latex": [
       "$\\displaystyle - 3 x - 5 y = -9$"
      ],
      "text/plain": [
       "-3⋅x - 5⋅y = -9"
      ]
     },
     "metadata": {},
     "output_type": "display_data"
    },
    {
     "data": {
      "text/markdown": [
       "$$Por\\ lo\\ tanto\\ el\\ arreglo\\ rectangular\\ de\\ tu\\ sistema\\ es:$$"
      ],
      "text/plain": [
       "<IPython.core.display.Markdown object>"
      ]
     },
     "metadata": {},
     "output_type": "display_data"
    },
    {
     "data": {
      "text/latex": [
       "$\\displaystyle \\left[\\begin{matrix}-6 & -8 & -9\\\\-3 & -5 & -9\\end{matrix}\\right]$"
      ],
      "text/plain": [
       "⎡-6  -8  -9⎤\n",
       "⎢          ⎥\n",
       "⎣-3  -5  -9⎦"
      ]
     },
     "metadata": {},
     "output_type": "display_data"
    },
    {
     "data": {
      "text/markdown": [
       "$$La\\ gráfica\\ del\\ sistema\\ es:$$"
      ],
      "text/plain": [
       "<IPython.core.display.Markdown object>"
      ]
     },
     "metadata": {},
     "output_type": "display_data"
    },
    {
     "data": {
      "image/png": "[encoded data removed]",
      "text/plain": [
       "<Figure size 432x288 with 1 Axes>"
      ]
     },
     "metadata": {
      "needs_background": "light"
     },
     "output_type": "display_data"
    }
   ],
   "source": [
    "\n",
    "to= r'$$Introduce\\ los\\ coeficientes\\ de\\ tu\\ primera\\ ecuación\\ lineal,\\ de\\ la\\ forma\\ ax+by=c$$'\n",
    "\n",
    "printmd(to)\n",
    "\n",
    "x,y = sp.symbols('x,y')\n",
    "\n",
    "#Para que Python interprete la entrada como un número entero, se debe utilizar la función int() para decimal se usa float()\n",
    "\n",
    "g= int(input(\"Cuál es el coeficiente de x: \"))\n",
    "g\n",
    "h=int(input(\"Cuál es el coeficiente de y: \"))\n",
    "h\n",
    "r=int(input(\"Cuál es el término constante: \"))\n",
    "\n",
    "#\n",
    "printmd('$$Tu\\ ecuación\\ 1\\ es:$$')\n",
    "\n",
    "eq1 = sp.Function('eq1')\n",
    "\n",
    "eq1 = Eq(g*x+h*y, r)\n",
    "\n",
    "display(eq1)\n",
    "\n",
    "ta= r'$$Introduce\\ los\\ datos\\ de\\ la\\ segunda\\ ecuación\\ de\\ la\\ forma\\ dx+ey=f:$$'\n",
    "\n",
    "printmd(ta)\n",
    "\n",
    "j= int(input(\"Cuál es el coeficiente de x: \"))\n",
    "j\n",
    "k=int(input(\"Cuál es el coficiente de y: \"))\n",
    "k\n",
    "l=int(input(\"Cuál es el termino constante: \"))\n",
    "\n",
    "printmd('$$Tu\\ ecuación\\ 2\\ es:$$')\n",
    "\n",
    "eq2 = sp.Function('eq2')\n",
    "eq2 =Eq(j*x+k*y, l)\n",
    "\n",
    "display(eq2)\n",
    "\n",
    "printmd ('$$Por\\ lo\\ tanto\\ tu\\ sistema\\ es:$$')\n",
    "\n",
    "display(eq1, eq2)\n",
    "\n",
    "printmd('$$Por\\ lo\\ tanto\\ el\\ arreglo\\ rectangular\\ de\\ tu\\ sistema\\ es:$$')\n",
    "\n",
    "row3=[g,h,r]\n",
    "row4=[j,k,l]\n",
    "\n",
    "system2 = Matrix ((row3,row4))\n",
    "\n",
    "display (system2)\n",
    "\n",
    "#Gráficamos el sistema\n",
    "\n",
    "printmd ('$$La\\ gráfica\\ del\\ sistema\\ es:$$')\n",
    "\n",
    "def y3(x):\n",
    "    return (r - g*x)/h \n",
    "# Función lineal.\n",
    "\n",
    "def y4(x):\n",
    "    return  (l - j*x)/k \n",
    "# Valores del eje X que toma el gráfico.\n",
    "x = range(-10, 15)\n",
    "# Graficar ambas funciones.\n",
    "plt.plot(x, [y3(i) for i in x])\n",
    "plt.plot(x, [y4(i) for i in x])\n",
    "# Establecer el color de los ejes.\n",
    "plt.axhline(0, color=\"black\")\n",
    "plt.axvline(0, color=\"black\")\n",
    "# Limitar los valores de los ejes.\n",
    "plt.xlim(-15, 15)\n",
    "plt.ylim(-15, 15)\n",
    "# Guardar gráfico como imágen PNG.\n",
    "plt.savefig(\"output.png\")\n",
    "# Mostrarlo.\n",
    "plt.show()"
   ]
  },
  {
   "cell_type": "markdown",
   "metadata": {},
   "source": [
    "$Tomando$ $en$ $cuenta$ $el$ $sistema$ $que$ $introduciste$ $al$ $inicio:$\n",
    "\n",
    "$-Multiplica$ $una$ $Ecuación$ $por$ $un$ $número$\n",
    "\n",
    "\n",
    "\n",
    "$-Observa$ $cómo$ $cambia$ $el$ $sistema$ $respecto$ $al$ $original.$"
   ]
  },
  {
   "cell_type": "code",
   "execution_count": null,
   "metadata": {},
   "outputs": [],
   "source": [
    "m=int(input('Qué ecuación quieres multiplicar por un número (introduce 1 o 2 según la ecuación que desees multiplicar): '))\n",
    "m\n",
    "if m == 1:\n",
    "    n=int(input('Por qué número deseeas multiplicar: '))\n",
    "    n\n",
    "    \n",
    "    a1= int(a*n)\n",
    "    a1\n",
    "    b1=int(b*n)\n",
    "    b1\n",
    "    c1= int(c*n)\n",
    "    \n",
    "    printmd ('$$Tu\\ nuevo\\ sistema\\ es:$$ ')\n",
    "    \n",
    "    eq3 = sp.Function('eq3')\n",
    "    eq3 = ec1*n\n",
    "    \n",
    "    display(eq3)\n",
    "\n",
    "    "
   ]
  }
 ],
 "metadata": {
  "hide_input": false,
  "kernelspec": {
   "display_name": "Python 3",
   "language": "python",
   "name": "python3"
  },
  "language_info": {
   "codemirror_mode": {
    "name": "ipython",
    "version": 3
   },
   "file_extension": ".py",
   "mimetype": "text/x-python",
   "name": "python",
   "nbconvert_exporter": "python",
   "pygments_lexer": "ipython3",
   "version": "3.7.6"
  },
  "latex_envs": {
   "LaTeX_envs_menu_present": true,
   "autoclose": true,
   "autocomplete": true,
   "bibliofile": "biblio.bib",
   "cite_by": "apalike",
   "current_citInitial": 1,
   "eqLabelWithNumbers": true,
   "eqNumInitial": 1,
   "hotkeys": {
    "equation": "Ctrl-E",
    "itemize": "Ctrl-I"
   },
   "labels_anchors": false,
   "latex_user_defs": false,
   "report_style_numbering": false,
   "user_envs_cfg": false
  }
 },
 "nbformat": 4,
 "nbformat_minor": 4
}
